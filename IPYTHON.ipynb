{
 "cells": [
  {
   "cell_type": "code",
   "execution_count": null,
   "id": "initial_id",
   "metadata": {
    "collapsed": true
   },
   "outputs": [],
   "source": [
    "#Comprehensions in Python provide us with a short and compact way to create new sequences.\n",
    "\n",
    "#Code:\n",
    "\n",
    "# set comprehension\n",
    "# for creating new set\n",
    "\n",
    "Set = [10, 28, 35, 15, 66, 79] \n",
    "\n",
    "\n",
    "Set_comp = {var for var in Set if var % 4 == 0} \n",
    "\n",
    "print(\"New Set using set comprehensions:\",Set_comp)"
   ]
  },
  {
   "cell_type": "code",
   "outputs": [],
   "source": [
    "#Documentation of Zip Function :\n",
    "\n",
    "#The zip() function returns a zip object contains a paired iterator, which is an iterator of tuples.In this pair, it basically pairs the first element from two tuples and so on.\n",
    "\n",
    "a = (\"Fred\", \"Marcus\", \"Jesus\")\n",
    "b = (\"Mary\", \"Peter\", \"Paul\")\n",
    "\n",
    "x = zip(a, b)\n",
    "\n",
    "#convert zip object into tuple so that it can be iterable\n",
    "print(tuple(x))"
   ],
   "metadata": {
    "collapsed": false
   },
   "id": "516af854c5dbacaf"
  }
 ],
 "metadata": {
  "kernelspec": {
   "display_name": "Python 3",
   "language": "python",
   "name": "python3"
  },
  "language_info": {
   "codemirror_mode": {
    "name": "ipython",
    "version": 2
   },
   "file_extension": ".py",
   "mimetype": "text/x-python",
   "name": "python",
   "nbconvert_exporter": "python",
   "pygments_lexer": "ipython2",
   "version": "2.7.6"
  }
 },
 "nbformat": 4,
 "nbformat_minor": 5
}
